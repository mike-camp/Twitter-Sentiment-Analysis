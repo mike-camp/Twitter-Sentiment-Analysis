{
 "cells": [
  {
   "cell_type": "markdown",
   "metadata": {},
   "source": [
    "# Analyzing Twitter Sentiment \n",
    "\n",
    "## Part 1: Analyzing Twitter Sentiment Using NLP\n",
    "\n",
    "In social media, trends move at incredible speed.  A hashtag can start trending, become popular, and then die in a matter days, or even hours.   At the forefront of social media trends is Twitter, an online social media site that allows people to write short 140 character comments on anything ranging from politics, to sports to video games.  \n",
    "\n",
    "The sheer volume of Twitter data makes analysis challenging however.  There are ~6000 tweets sent out from twitter every second, which means that finding the latest trends is akin for looking for a needle in a haystack while getting sprayed by a firehose.   \n",
    "\n",
    "Fortunately there are some good libraries for dealing with twitter data that can allow you to extract meaning from this information firehose.   In this blog post, I will show you how to set up a twitter sentiment analyzer which allows you to see the sentiment, and location of the latest trends in the US and around the world.   \n",
    "\n",
    "## Table of Contents\n",
    "  1. [Introduction](#1)\n",
    "    1. [Necessary Libraries](#1.1)\n",
    "    2. [Accessing labeled Twitter Data](#1.2)\n",
    "  2. [Preprocessing the Data](#2)\n",
    "    1. [removing html formatting](#2.1)\n",
    "    2. [removing usernames/websites/emoji's](#2.2)\n",
    "    3. [stemming and tokenizing](#2.3)\n",
    "  3. [Sentiment Analysis Models](#3)\n",
    "    1. [Naive Bayes](3.1)\n",
    "    2. [Logistic Regression](#3.2)\n",
    "    3. [Stochastic Gradient Descent](#3.3)\n",
    "  4. [Conclusions/Look Ahead](#4)\n"
   ]
  },
  {
   "cell_type": "markdown",
   "metadata": {},
   "source": [
    "### Necessary Libraries <a id=1></a>\n",
    "\n",
    "For this part of the tutorial we will need to use the following libraries\n",
    "  - [SkLearn](http://scikit-learn.org/): popular machine learning library\n",
    "  - [NLTK](http://www.nltk.org): Natural language processing library\n",
    "  - [re](: regular expression library\n",
    "  - pandas: popular data analysis library\n",
    "\n"
   ]
  },
  {
   "cell_type": "code",
   "execution_count": 1,
   "metadata": {
    "collapsed": true
   },
   "outputs": [],
   "source": [
    "import sklearn\n",
    "import nltk\n",
    "import re\n",
    "import pandas"
   ]
  },
  {
   "cell_type": "markdown",
   "metadata": {},
   "source": [
    "### Accessing labeled twitter data<a id=\"1.2\"></a>\n",
    "\n",
    "There are several sources of labeled twitter data, for example Kaggle hosts a dataset of labeled tweets, and various other hand labeled tweet datasets can be found elsewhere.   However, they all suffer from a serious flaw in that all of the tweets have an easily identifiable sentiment.   This might sound like a good thing, but when trying to classify real world data you quickly will run into the problem that most tweets don't have an easily identifiable sentiment.  Your training data will not adequitely reflect your actual data.   \n",
    "\n",
    "A better idea is to get both more data, and data which is closer to real world data.   "
   ]
  },
  {
   "cell_type": "code",
   "execution_count": null,
   "metadata": {
    "collapsed": true
   },
   "outputs": [],
   "source": []
  }
 ],
 "metadata": {
  "kernelspec": {
   "display_name": "Python 3",
   "language": "python",
   "name": "python3"
  },
  "language_info": {
   "codemirror_mode": {
    "name": "ipython",
    "version": 3
   },
   "file_extension": ".py",
   "mimetype": "text/x-python",
   "name": "python",
   "nbconvert_exporter": "python",
   "pygments_lexer": "ipython3",
   "version": "3.6.2"
  }
 },
 "nbformat": 4,
 "nbformat_minor": 2
}
