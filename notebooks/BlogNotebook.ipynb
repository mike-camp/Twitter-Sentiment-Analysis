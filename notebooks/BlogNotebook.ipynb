{
 "cells": [
  {
   "cell_type": "markdown",
   "metadata": {},
   "source": [
    "# Analyzing Twitter Sentiment\n",
    "\n",
    "In social media, trends move at incredible speed.  A hashtag can start trending, become popular, and then die in a matter days, or even hours.   At the forefront of social media trends is Twitter, an online social media site that allows people to write short 140 character comments on anything ranging from politics, to sports to video games.  \n",
    "\n",
    "The sheer volume of Twitter data makes analysis challenging however.  There are ~6000 tweets sent out from twitter every second, which means that finding the latest trends is akin for looking for a needle in a haystack while getting sprayed by a firehose.   \n",
    "\n",
    "Fortunately there are some good libraries for dealing with twitter data that can allow you to extract meaning from this information firehose.   In this blog post, I will show you how to set up a twitter sentiment analyzer which allows you to see the sentiment, and location of the latest trends in the US and around the world.   \n",
    "\n",
    "## Table of Contents\n",
    "  1. [Introduction](#intro)\n",
    "    1. [Necessary Libraries](#nl)\n",
    "    2. [The structure of twitter data](#tweet_structure)\n",
    "  2. Using Tweepy and mongodb to get and store data\n",
    "    1. getting trends\n",
    "    2. streaming tweets\n",
    "    3. storing tweets in mongodb\n",
    "  3. Sentiment Analysis\n",
    "    1. How to build a sentiment analyzer from scratch\n",
    "  4.  Plotting location\n"
   ]
  },
  {
   "cell_type": "markdown",
   "metadata": {},
   "source": [
    "## Necessary Libraries <a href=\"nl\"></a>\n",
    "For this example we will need scrape twitter data, connect to mongodb, store analyze the results in tables, train a sentiment classifier, and then plot the results.  To do this, we will need to use the following libraries\n",
    "  - tweepy\n",
    "  - pymongo\n",
    "  - pandas\n",
    "  - sklearn\n",
    "  - geopandas\n",
    "  - folium"
   ]
  },
  {
   "cell_type": "code",
   "execution_count": 1,
   "metadata": {
    "collapsed": true
   },
   "outputs": [],
   "source": [
    "import tweepy\n",
    "import pymongo\n",
    "import sklearn\n",
    "import geopandas\n",
    "import folium"
   ]
  },
  {
   "cell_type": "code",
   "execution_count": null,
   "metadata": {
    "collapsed": true
   },
   "outputs": [],
   "source": []
  }
 ],
 "metadata": {
  "kernelspec": {
   "display_name": "Python 3",
   "language": "python",
   "name": "python3"
  },
  "language_info": {
   "codemirror_mode": {
    "name": "ipython",
    "version": 3
   },
   "file_extension": ".py",
   "mimetype": "text/x-python",
   "name": "python",
   "nbconvert_exporter": "python",
   "pygments_lexer": "ipython3",
   "version": "3.6.2"
  }
 },
 "nbformat": 4,
 "nbformat_minor": 2
}
