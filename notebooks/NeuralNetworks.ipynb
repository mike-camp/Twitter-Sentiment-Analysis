{
 "cells": [
  {
   "cell_type": "code",
   "execution_count": 1,
   "metadata": {
    "scrolled": false
   },
   "outputs": [],
   "source": [
    "from src import neural_networks\n"
   ]
  },
  {
   "cell_type": "code",
   "execution_count": null,
   "metadata": {},
   "outputs": [],
   "source": [
    "rnn = neural_networks.RNN(100, tokenization='char', embedding_dim=126,\n",
    "                         n_hidden=50, max_sequence_length=140,\n",
    "                         cell_type='lstm')"
   ]
  },
  {
   "cell_type": "code",
   "execution_count": null,
   "metadata": {},
   "outputs": [
    {
     "name": "stdout",
     "output_type": "stream",
     "text": [
      "epoch: 0 -- training loss:0.703 -- test loss: 0.733\n",
      "epoch: 1 -- training loss:0.703 -- test loss: 0.696\n",
      "epoch: 2 -- training loss:0.703 -- test loss: 0.696\n",
      "epoch: 3 -- training loss:0.703 -- test loss: 0.696\n",
      "epoch: 4 -- training loss:0.692 -- test loss: 0.682\n",
      "epoch: 5 -- training loss:0.688 -- test loss: 0.682\n"
     ]
    }
   ],
   "source": [
    "rnn.train()"
   ]
  },
  {
   "cell_type": "code",
   "execution_count": null,
   "metadata": {},
   "outputs": [],
   "source": []
  }
 ],
 "metadata": {
  "kernelspec": {
   "display_name": "Python 3",
   "language": "python",
   "name": "python3"
  },
  "language_info": {
   "codemirror_mode": {
    "name": "ipython",
    "version": 3
   },
   "file_extension": ".py",
   "mimetype": "text/x-python",
   "name": "python",
   "nbconvert_exporter": "python",
   "pygments_lexer": "ipython3",
   "version": "3.5.2"
  }
 },
 "nbformat": 4,
 "nbformat_minor": 2
}
