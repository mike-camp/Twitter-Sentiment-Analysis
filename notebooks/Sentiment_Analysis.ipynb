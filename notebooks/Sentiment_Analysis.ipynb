{
 "cells": [
  {
   "cell_type": "code",
   "execution_count": 1,
   "metadata": {
    "collapsed": true
   },
   "outputs": [],
   "source": [
    "import pandas as pd\n",
    "from src import utils"
   ]
  },
  {
   "cell_type": "code",
   "execution_count": 2,
   "metadata": {
    "collapsed": true
   },
   "outputs": [],
   "source": [
    "import requests\n",
    "from src.apikeys import TWITTER, MONGO"
   ]
  },
  {
   "cell_type": "code",
   "execution_count": 16,
   "metadata": {
    "collapsed": true
   },
   "outputs": [],
   "source": [
    "\n",
    "from pymongo import MongoClient\n",
    "client = MongoClient('mongodb://{}:{}@localhost:27017'.format(MONGO.USER,MONGO.PASSWORD))\n",
    "# Access/Initiate Database\n",
    "db = client['twitter_database']\n",
    "# Access/Initiate Table\n",
    "tab = db['broncos_raiders']"
   ]
  },
  {
   "cell_type": "code",
   "execution_count": 17,
   "metadata": {},
   "outputs": [
    {
     "data": {
      "text/plain": [
       "106209"
      ]
     },
     "execution_count": 17,
     "metadata": {},
     "output_type": "execute_result"
    }
   ],
   "source": [
    "tab.count({'user.location':{'$ne':None}})"
   ]
  },
  {
   "cell_type": "code",
   "execution_count": 18,
   "metadata": {
    "collapsed": true
   },
   "outputs": [],
   "source": [
    "a = tab.find({'user.location':{'$ne':None}},{'text':1,'user.location':1})\n",
    "b = list(a.limit(200))"
   ]
  },
  {
   "cell_type": "code",
   "execution_count": 19,
   "metadata": {},
   "outputs": [
    {
     "name": "stderr",
     "output_type": "stream",
     "text": [
      "/home/michael/anaconda3/lib/python3.6/site-packages/bs4/__init__.py:282: UserWarning: \"https://t.co/QMv5eXck28\" looks like a URL. Beautiful Soup is not an HTTP client. You should probably use an HTTP client like requests to get the document behind the URL, and feed that document to Beautiful Soup.\n",
      "  ' that document to Beautiful Soup.' % decoded_markup\n"
     ]
    },
    {
     "data": {
      "text/plain": [
       "['Thought',\n",
       " 'ya',\n",
       " 'learned',\n",
       " 'from',\n",
       " 'the',\n",
       " 'Broncos',\n",
       " 'game',\n",
       " 'but',\n",
       " 'guess',\n",
       " 'not',\n",
       " 'fuck',\n",
       " 'this',\n",
       " 'shit']"
      ]
     },
     "execution_count": 19,
     "metadata": {},
     "output_type": "execute_result"
    }
   ],
   "source": [
    "c = [utils.tokenize(tweet['text']) for tweet in b]\n",
    "c[2]"
   ]
  },
  {
   "cell_type": "code",
   "execution_count": 20,
   "metadata": {},
   "outputs": [
    {
     "data": {
      "text/plain": [
       "{'_id': ObjectId('59d14eb63e0fd11028350de4'),\n",
       " 'text': 'RT @AdamSchefter: Raiders RB Marshawn Lynch wearing an \"Everybody vs Trump\" T-shirt: https://t.co/7aiCUbjLUD',\n",
       " 'user': {'location': 'Raleigh, NC'}}"
      ]
     },
     "execution_count": 20,
     "metadata": {},
     "output_type": "execute_result"
    }
   ],
   "source": [
    "b[0]"
   ]
  },
  {
   "cell_type": "code",
   "execution_count": 21,
   "metadata": {},
   "outputs": [
    {
     "data": {
      "text/plain": [
       "{'_id': ObjectId('59d14eb63e0fd11028350de6'),\n",
       " 'text': 'Thought ya learned from the Broncos game but guess not fuck this shit',\n",
       " 'user': {'location': 'Dallas, TX'}}"
      ]
     },
     "execution_count": 21,
     "metadata": {},
     "output_type": "execute_result"
    }
   ],
   "source": [
    "b[2]"
   ]
  },
  {
   "cell_type": "code",
   "execution_count": 22,
   "metadata": {},
   "outputs": [
    {
     "data": {
      "text/plain": [
       "'Thought ya learned from the Broncos game but guess not fuck this shit'"
      ]
     },
     "execution_count": 22,
     "metadata": {},
     "output_type": "execute_result"
    }
   ],
   "source": [
    "import textblob\n",
    "utils.clean_text(tweet=b[2]['text'])"
   ]
  },
  {
   "cell_type": "code",
   "execution_count": 23,
   "metadata": {
    "scrolled": true
   },
   "outputs": [
    {
     "name": "stdout",
     "output_type": "stream",
     "text": [
      "0.00 || 0.00 ||  RT AT_USER Raiders RB Marshawn Lynch wearing an Everybody vs Trump shirt WEBLINK\n",
      "0.00 || 0.00 ||  RT AT_USER est magnifique de vous voir parler des Milanais comme des voleurs Mdr hôpital qui se fout de la charité carrément\n",
      "-0.13 || 0.60 ||  Thought ya learned from the Broncos game but guess not fuck this shit\n",
      "0.00 || 0.00 ||  AT_USER don't remind when the broncos lose\n",
      "0.00 || 0.00 ||  AT_USER please switch to raiders denver at 425e\n",
      "0.00 || 0.00 ||  RT AT_USER WEBLINK\n",
      "0.17 || 0.42 ||  AT_USER If my BRONCOS kneel I'm shutting them off anyway We are strong military family Regardless of WEBLINK\n",
      "0.00 || 0.00 ||  RT AT_USER Raiders RB Marshawn Lynch wearing an Everybody vs Trump shirt WEBLINK\n",
      "0.00 || 0.00 ||  RT AT_USER About that time BeatTheRaiders WEBLINK\n",
      "0.50 || 0.75 ||  RT AT_USER Marshawn Lynch stays winning WEBLINK\n",
      "0.80 || 0.40 ||  RT AT_USER Raiders win toss and defer Broncos will receive opening kickoff\n",
      "0.00 || 0.00 ||  AT_USER Ima just dump all my bread on the raiders money line and if lose beat my girl\n",
      "0.10 || 0.38 ||  RT AT_USER Hey Marshawn Lynch your shirt say's everyone VS Trump You got ripped off To be clear it's Trump America vs anti Ame\n",
      "0.00 || 0.00 ||  RT AT_USER BeatTheRaiders WEBLINK\n",
      "0.50 || 0.50 ||  RT AT_USER Nothing better than rivalry gameday BeatTheRaiders WEBLINK\n",
      "0.00 || 0.00 ||  AT_USER time for Carr vs the NoFlyZone\n",
      "-0.40 || 0.40 ||  RT AT_USER LOOK Marshawn Lynch arrives at Raiders game wearing Everybody vs Trump shirt WEBLINK\n",
      "0.00 || 0.00 ||  MEUS MENINOS WEBLINK\n",
      "-0.50 || 1.00 ||  What would the NFL look like in LA if it were the Raiders instead of the Rams and Chargers Just sad WEBLINK\n",
      "0.00 || 0.00 ||  RT AT_USER AT_USER AT_USER Message for Von Miller Broncos BoycottNFL BoycottBroncos Go take knee in war zone\n",
      "0.00 || 0.00 ||  RT AT_USER Broncos inactives QB Paxton Lynch RB De'Angelo Henderson WR Cody Latimer CB Lorenzo Doss NT Kyle Peko OL Billy Turner\n",
      "0.00 || 0.00 ||  RT AT_USER Raiders RB Marshawn Lynch wearing an Everybody vs Trump shirt WEBLINK\n",
      "-0.40 || 0.40 ||  RT AT_USER Marshawn Lynch arrives at game wearing Everybody vs Trump shirt made by Oakland based Dope Era 45 WEBLINK\n",
      "0.13 || 0.27 ||  Raiders win the second game and take two W's from Cornell gogate WEBLINK\n",
      "0.20 || 0.50 ||  RT AT_USER RAIDERS VS BRONCOS IN 10 minutes Who's ready for our in Denver raiders OAKvsDEN\n",
      "0.00 || 0.00 ||  Just become raiders fan fully queen WEBLINK\n",
      "0.00 || 0.00 ||  RT AT_USER Raiders RB Marshawn Lynch wearing an Everybody vs Trump shirt WEBLINK\n",
      "0.00 || 0.00 ||  Another MILLION DOLLAR LOSER WEBLINK\n",
      "0.00 || 0.00 ||  Neta AT_USER Contra broncos rams\n",
      "1.00 || 0.30 ||  At the best Broncos bar I've ever been to in any state tbh Always lit TheLocalAustin UpShow WEBLINK\n",
      "0.00 || 0.00 ||  Goooooooooo Broncos\n",
      "0.00 || 0.00 ||  RT AT_USER Marshawn Lynch arriving in Everybody vs Trump shirt RaiderNation WEBLINK\n",
      "-0.40 || 0.40 ||  RT AT_USER Marshawn Lynch rockin an Everybody vs Trump shirt pre game WEBLINK\n",
      "0.00 || 0.00 ||  RT AT_USER Raiders RB Marshawn Lynch wearing an Everybody vs Trump shirt WEBLINK\n",
      "0.02 || 0.27 ||  RT AT_USER Missed the game but by the sounds of it hard to see where the next win comes from Clue it's not next week at AT_USER\n",
      "-0.40 || 0.40 ||  RT AT_USER VIDEO Marshawn Lynch arrives at today game wearing an Everybody Trump shirt WEBLINK\n",
      "0.00 || 0.00 ||  RT AT_USER RampagesRant Von Miller Jersey vs Sig MCX 56 Liberalism101 If you can stand for the National Anthe\n",
      "0.00 || 0.00 ||  RT AT_USER The Buffalo GoBills have defeated the Denver Broncos The Buffalo GoBills have defeated the Atlanta Falcons The Buf\n",
      "0.20 || 0.60 ||  RT AT_USER Marshawn Lynch Everybody vs Trump shirt NFL going downhill fast MAGA WEBLINK\n",
      "0.00 || 0.51 ||  AT_USER Raiders game is the only game on CBS but don't watch last time you tuned in we got destroyed lol\n",
      "-0.17 || 0.07 ||  RT AT_USER Nothing less OAKvsDEN WEBLINK\n",
      "0.00 || 0.00 ||  RT AT_USER Focus BeatTheRaiders WEBLINK\n",
      "0.00 || 0.00 ||  RT AT_USER 2020 presidential candidate Marshawn Lynch wearing an Everybody vs Trump shirt today WEBLINK\n",
      "0.00 || 0.00 ||  RT AT_USER RampagesRant Von Miller Jersey vs Sig MCX 56 Liberalism101 If you can stand for the National Anthe\n",
      "0.00 || 0.00 ||  RT AT_USER BeatTheRaiders WEBLINK\n",
      "-0.17 || 0.07 ||  RT AT_USER Nothing less OAKvsDEN WEBLINK\n",
      "0.00 || 0.00 ||  RT AT_USER All Broncos players standing during national anthem as planned Brandon Marshall raising his left fist\n",
      "-0.40 || 0.40 ||  RT AT_USER It almost game time Follow along with us here as we talk Broncos with AT_USER WEBLINK\n",
      "0.35 || 0.55 ||  Hey AT_USER or AT_USER Can one of y'all score so can watch my Broncos on full screen Thank you Fizzle\n",
      "0.20 || 0.50 ||  RT AT_USER Are you ready for some Broncos football OAKvsDEN AT_USER WEBLINK\n",
      "0.00 || 0.00 ||  RT AT_USER Focus BeatTheRaiders WEBLINK\n",
      "0.80 || 0.40 ||  Let's get this win AT_USER\n",
      "-0.40 || 0.40 ||  AT_USER AT_USER AT_USER The name of the game is wait in line and hoard all you can AT_USER vs AT_USER WEBLINK\n",
      "0.80 || 0.40 ||  RT AT_USER Win today OAKvsDEN WEBLINK\n",
      "-0.40 || 0.40 ||  RT AT_USER Marshawn Lynch arrived to the game wearing an Everybody vs Trump shirt via AT_USER WEBLINK\n",
      "0.00 || 0.00 ||  RT AT_USER Raiders RB Marshawn Lynch wearing an Everybody vs Trump shirt WEBLINK\n",
      "0.00 || 0.00 ||  RT AT_USER Raiders RB Marshawn Lynch wearing an Everybody vs Trump shirt WEBLINK\n",
      "0.00 || 0.00 ||  RT AT_USER Fans push anew to get former Raiders coach Tom Flores into the Pro Football Hall of Fame WEBLINK\n",
      "0.00 || 0.00 ||  RT AT_USER Raiders RB Marshawn Lynch wearing an Everybody vs Trump shirt WEBLINK\n",
      "0.00 || 0.00 ||  RT AT_USER Raiders RB Marshawn Lynch wearing an Everybody vs Trump shirt WEBLINK\n",
      "-0.80 || 0.80 ||  RT AT_USER FYI that Thunder took crap all over the field on the run out of the tunnel So take that however you'd like Broncos\n",
      "0.00 || 0.00 ||  RT AT_USER BeatTheRaiders WEBLINK\n",
      "-0.35 || 0.60 ||  AT_USER all are not good you got ya kicked by the broncos\n",
      "0.80 || 0.75 ||  RT AT_USER AT_USER Great video am done with the Broncos also BoycottNFL\n",
      "0.60 || 1.00 ||  Where do get that shirt Must own WEBLINK\n",
      "0.00 || 0.00 ||  Despues de la victoria de mis AT_USER listo para ver AT_USER de mi amigo AT_USER con sus buenos comentarios AT_USER NFLxFOX\n",
      "-0.17 || 0.07 ||  RT AT_USER Nothing less OAKvsDEN WEBLINK\n",
      "0.00 || 0.00 ||  RT AT_USER All Broncos players stood for the national anthem\n",
      "0.00 || 0.00 ||  RT AT_USER Speak for yourself dickhead WEBLINK\n",
      "-0.40 || 0.40 ||  RT AT_USER Marshawn Lynch arrives at game wearing Everybody vs Trump shirt made by Oakland based Dope Era 45 WEBLINK\n",
      "0.00 || 0.00 ||  RT AT_USER Raiders RB Marshawn Lynch wearing an Everybody vs Trump shirt WEBLINK\n",
      "-0.17 || 0.07 ||  RT AT_USER Nothing less OAKvsDEN WEBLINK\n",
      "0.00 || 0.00 ||  NFL Week Marshawn Lynch jabs Trump Patriots and Falcons upset Julio Jones Dalvin Cook leave with injuries WEBLINK\n",
      "0.00 || 0.00 ||  RT AT_USER Focus BeatTheRaiders WEBLINK\n",
      "-0.40 || 0.40 ||  RT AT_USER Marshawn Lynch arrives at game wearing Everybody vs Trump shirt made by Oakland based Dope Era 45 WEBLINK\n",
      "0.00 || 0.00 ||  Now time to watch my Raiders play\n",
      "0.00 || 0.00 ||  RT AT_USER Raiders RB Marshawn Lynch wearing an Everybody vs Trump shirt WEBLINK\n",
      "0.00 || 0.00 ||  AT_USER teach me your ways on how you can afford AT_USER tickets all the time\n",
      "0.00 || 0.00 ||  RT AT_USER Today the day The Raiders tell all it was joke RaiderNation\n",
      "0.00 || 0.00 ||  RT AT_USER BeatTheRaiders WEBLINK\n",
      "-0.40 || 0.40 ||  RT AT_USER Raiders RB Marshawn Lynch wears Everybody vs Trump shirt to game WEBLINK\n",
      "0.00 || 0.00 ||  RT AT_USER Raiders RB Marshawn Lynch wearing an Everybody vs Trump shirt WEBLINK\n",
      "0.00 || 1.00 ||  AT_USER FINAL FROM DALLAS AT_USER vs AT_USER get_free_access WEBLINK\n",
      "0.00 || 0.00 ||  RT AT_USER BeatTheRaiders WEBLINK\n",
      "-0.07 || 0.53 ||  Raiders Vs Broncos Live Stream Online Free Online Game HD Reddit Source WEBLINK Broncos Raiders Game\n",
      "0.00 || 0.00 ||  RT AT_USER Raiders RB Marshawn Lynch wearing an Everybody vs Trump shirt WEBLINK\n",
      "0.00 || 0.00 ||  RT AT_USER Raiders RB Marshawn Lynch wearing an Everybody vs Trump shirt WEBLINK\n",
      "0.00 || 0.00 ||  RT AT_USER Focus BeatTheRaiders WEBLINK\n",
      "-0.40 || 0.40 ||  RT AT_USER Raiders RB Marshawn Lynch wears Everybody vs Trump shirt to game WEBLINK\n",
      "0.00 || 0.00 ||  RT AT_USER Raiders RB Marshawn Lynch wearing an Everybody vs Trump shirt WEBLINK\n",
      "0.00 || 0.00 ||  RT AT_USER Raiders RB Marshawn Lynch wearing an Everybody vs Trump shirt WEBLINK\n",
      "0.00 || 0.00 ||  RT AT_USER BeatTheRaiders WEBLINK\n",
      "0.00 || 0.00 ||  RT AT_USER BeatTheRaiders WEBLINK\n",
      "0.20 || 0.50 ||  RT AT_USER hope AT_USER got the printer ready WEBLINK WEBLINK\n",
      "0.00 || 0.00 ||  Marshawn Lynch WEBLINK\n",
      "-0.55 || 0.63 ||  RT AT_USER PATHETIC AT_USER throw game because QB Stands for Antthem NOT OK BoycottRaiders BoycottNFL AT_USER SundayMorning\n",
      "0.00 || 0.00 ||  AT_USER DopeEra WEBLINK\n",
      "0.80 || 0.40 ||  RT AT_USER Win today OAKvsDEN WEBLINK\n",
      "-0.40 || 0.40 ||  RT AT_USER Raiders RB Marshawn Lynch wears Everybody vs Trump shirt to game WEBLINK\n",
      "0.00 || 0.00 ||  RT AT_USER Raiders RB Marshawn Lynch wearing an Everybody vs Trump shirt WEBLINK\n",
      "0.00 || 0.00 ||  AT_USER Espero que los dos juegos ante mis AT_USER sean dos cheques al portador\n",
      "-0.17 || 0.07 ||  RT AT_USER Nothing less OAKvsDEN WEBLINK\n",
      "0.00 || 0.00 ||  RT AT_USER Raiders RB Marshawn Lynch wearing an Everybody vs Trump shirt WEBLINK\n",
      "0.00 || 0.00 ||  RT AT_USER Raiders RB Marshawn Lynch wearing an Everybody vs Trump shirt WEBLINK\n",
      "0.00 || 0.00 ||  MarshawnLynch EverybodyVTrump shirt WEBLINK\n",
      "-0.17 || 0.07 ||  RT AT_USER Nothing less OAKvsDEN WEBLINK\n",
      "0.00 || 0.00 ||  RT AT_USER Raiders RB Marshawn Lynch wearing an Everybody vs Trump shirt WEBLINK\n",
      "-0.13 || 0.45 ||  Raiders vs Broncos Live Stream CBS NFL Game Week WEBLINK via AT_USER\n",
      "0.00 || 0.00 ||  RT AT_USER Raiders RB Marshawn Lynch wearing an Everybody vs Trump shirt WEBLINK\n",
      "-0.25 || 0.40 ||  RT AT_USER come visit nine mètres carré du CROUS before saying small frère WEBLINK\n",
      "0.00 || 0.00 ||  RT AT_USER Quand t'es fatigué t'es carrément une autre personne\n",
      "0.40 || 0.20 ||  Steelers with the win now let's see how the raiders can bounce back\n",
      "0.10 || 0.73 ||  Know Oakland Fans Is Mad The Raiders Is Now Vegas Team But It's Great Look For New Beginning\n",
      "0.17 || 0.28 ||  RT AT_USER Have mentioned recently how much love Marshawn back in the NFL WEBLINK\n",
      "0.00 || 0.00 ||  WEBLINK\n",
      "0.75 || 0.50 ||  Broncos provided the layout to beat Dallas And of course Wade Phillip's Rams followed along Good win Rams\n",
      "0.00 || 0.00 ||  RT AT_USER Speak for yourself dickhead WEBLINK\n",
      "0.00 || 0.00 ||  RT AT_USER Need WEBLINK\n",
      "0.00 || 0.00 ||  RT AT_USER Raiders RB Marshawn Lynch wearing an Everybody vs Trump shirt WEBLINK\n",
      "0.00 || 0.00 ||  RT AT_USER All Broncos players standing during national anthem as planned Brandon Marshall raising his left fist\n",
      "0.00 || 0.00 ||  Lets goooooo Rams Raiders turn\n",
      "0.00 || 0.00 ||  RT AT_USER Raiders RB Marshawn Lynch wearing an Everybody vs Trump shirt WEBLINK\n",
      "-0.16 || 0.29 ||  AT_USER AT_USER Down goes Dallas The AT_USER clip the Cowboys 35 30 to improve to AT_USER vs AT_USER WEBLINK\n",
      "0.00 || 0.00 ||  RT AT_USER All Broncos stood for the National Anthem Brandon Marshall raised his fist WEBLINK\n",
      "0.00 || 0.00 ||  RT AT_USER Raiders RB Marshawn Lynch wearing an Everybody vs Trump shirt WEBLINK\n",
      "0.00 || 0.00 ||  RT AT_USER RampagesRant Von Miller Jersey vs Sig MCX 56 Liberalism101 If you can stand for the National Anthe\n",
      "0.00 || 0.00 ||  RT AT_USER Nothing but respect for MY president WEBLINK\n",
      "0.00 || 0.00 ||  HERE WE GO Let's go AT_USER OAKvsDEN BroncosEurope BroncosCountry\n",
      "-0.40 || 0.40 ||  RT AT_USER VIDEO Marshawn Lynch arrives at today game wearing an Everybody Trump shirt WEBLINK\n",
      "0.00 || 0.00 ||  RT AT_USER Raiders RB Marshawn Lynch wearing an Everybody vs Trump shirt WEBLINK\n",
      "0.00 || 0.00 ||  RT AT_USER Raiders RB Marshawn Lynch wearing an Everybody vs Trump shirt WEBLINK\n",
      "0.00 || 0.00 ||  Raiders got shook by the anthem talk this week guess That's shame WEBLINK\n",
      "0.00 || 0.00 ||  RT AT_USER BEAST MODE Marshawn Lynch is making statement everybody vs trump WEBLINK\n",
      "0.00 || 0.00 ||  RT AT_USER Marshawn Lynch is wearing an Everybody vs Trump shirt WEBLINK WEBLINK\n",
      "0.00 || 0.00 ||  AT_USER AT_USER AT_USER thought you meant Dalvin Carr likes Cook alot so you should be alright\n",
      "0.14 || 0.45 ||  Dallas New England Atlanta todos favoritos todos en casa todos perdieron Go AT_USER\n",
      "0.00 || 0.00 ||  RT AT_USER BeatTheRaiders WEBLINK\n",
      "-0.40 || 0.40 ||  RT AT_USER VIDEO Marshawn Lynch arrives at today game wearing an Everybody Trump shirt WEBLINK\n",
      "-0.17 || 0.07 ||  RT AT_USER Nothing less OAKvsDEN WEBLINK\n",
      "0.00 || 0.00 ||  RT AT_USER No Broncos kneeling for anthem But AT_USER raising his left fist in the air AT_USER\n",
      "0.00 || 0.00 ||  This guy is piece of garbage It isn Trump but way make name for himself The names thinking of for WEBLINK\n",
      "0.00 || 0.00 ||  RT AT_USER Raiders RB Marshawn Lynch wearing an Everybody vs Trump shirt WEBLINK\n",
      "-0.40 || 0.40 ||  I'm jus tryna see the raiders game not Jets in OT\n",
      "0.00 || 0.00 ||  RT AT_USER Raiders RB Marshawn Lynch wearing an Everybody vs Trump shirt WEBLINK\n",
      "0.00 || 0.00 ||  Unless Washington exposes them like they did the Raiders WEBLINK\n",
      "0.00 || 0.00 ||  So where can get of these shirts WEBLINK\n",
      "0.00 || 0.00 ||  If AFC Wildcard teams end up being the Patriots Raiders that would be lit\n",
      "-0.80 || 0.80 ||  Idiot WEBLINK\n",
      "0.00 || 0.00 ||  AT_USER AT_USER Rdv le 21 octobre faudra tu me passe adresse de carré VIP\n",
      "-0.16 || 0.29 ||  Hope the Broncos shut down lynch today\n",
      "-0.25 || 0.25 ||  RT AT_USER Todd Davis joins the usual Broncos captains for the coin toss Broncos lose the toss Raiders defer option Broncos ball fi\n",
      "0.00 || 0.00 ||  My mans the realist WEBLINK\n",
      "0.00 || 0.00 ||  Let's get it broncos beattheraiders\n",
      "0.00 || 0.00 ||  Sympathischer junger Mann den ihr da neu habt ranNFL goraiders raidernation raiders oakland\n",
      "-0.50 || 1.00 ||  AT_USER hahah weird weekend Could make lot of profit if you took the underdogs this weekend Hope the WEBLINK\n",
      "0.00 || 0.00 ||  RT AT_USER Marshawn Lynch wears Everybody vs Trump shirt to stadium WEBLINK\n",
      "0.00 || 0.00 ||  RT AT_USER AT_USER AT_USER AT_USER AT_USER AT_USER AT_USER AT_USER AT_USER AT_USER AT_USER\n",
      "0.00 || 0.00 ||  RT AT_USER Raiders RB Marshawn Lynch wearing an Everybody vs Trump shirt WEBLINK\n",
      "0.00 || 0.00 ||  RT AT_USER This Broncos crowd is FIRED UP BeatTheRaiders WEBLINK\n",
      "0.00 || 0.00 ||  RT AT_USER BoycottNFL TakeTheKnee StandForOurAnthem WEBLINK\n",
      "0.00 || 0.00 ||  RT AT_USER Every AT_USER player but Marshawn Lynch stood for the National Anthem here in Denver AT_USER WEBLINK\n",
      "0.00 || 0.00 ||  RT AT_USER BeatTheRaiders WEBLINK\n",
      "0.00 || 0.00 ||  Gametime LETS GO AT_USER RaiderNation\n",
      "0.55 || 0.80 ||  RT AT_USER have so much love for Marshawn Lynch The man marches to the beat of his own drummer No conformity\n",
      "0.00 || 0.00 ||  AT_USER AT_USER\n",
      "0.00 || 0.00 ||  RT AT_USER Raiders RB Marshawn Lynch wearing an Everybody vs Trump shirt WEBLINK\n",
      "-0.40 || 0.40 ||  RT AT_USER Marshawn Lynch arrives at game wearing Everybody vs Trump shirt made by Oakland based Dope Era 45 WEBLINK\n",
      "0.00 || 0.00 ||  RT AT_USER BeatTheRaiders WEBLINK\n",
      "0.00 || 0.00 ||  RT AT_USER Raiders RB Marshawn Lynch wearing an Everybody vs Trump shirt WEBLINK\n",
      "-0.59 || 0.68 ||  Horrible and mean HORRIBLE loss today this is WAY worse than the Broncos game we should ve had this game won NO EXCUSES COWBOYSNATION\n",
      "-0.40 || 0.40 ||  RT AT_USER Marshawn Lynch arrives at game wearing Everybody vs Trump shirt made by Oakland based Dope Era 45 WEBLINK\n",
      "0.00 || 0.00 ||  Darauf müsst ihr bei Raiders Broncos achten NFL ranNFL FreeAgent WEBLINK\n",
      "0.20 || 0.20 ||  I'm really fed up with these overpaid goons who are making their money thru US taxpayers subsidies Fire the lot WEBLINK\n",
      "0.25 || 0.28 ||  This is so much better than the coffee sip from last week AT_USER WEBLINK\n",
      "-0.17 || 0.07 ||  RT AT_USER Nothing less OAKvsDEN WEBLINK\n",
      "0.00 || 0.00 ||  RT AT_USER BeatTheRaiders WEBLINK\n",
      "-0.17 || 0.43 ||  Now my all black squad AT_USER needs to whoop some ass\n",
      "0.00 || 0.00 ||  RT AT_USER Plenty of you were bettingbetter on the British Irish raiders at Chantilly today Well done AT_USER https\n",
      "0.00 || 0.00 ||  RT AT_USER Art has voice let it speak Rochelle Carr London at Night Wilfred Bosworth Jenkins 1857 1936 Leeds\n",
      "0.00 || 0.00 ||  RT AT_USER Where does the planet earth buy this shirt WEBLINK\n",
      "-0.10 || 1.00 ||  AT_USER AT_USER AT_USER Raiders Troy Just curious\n",
      "-0.17 || 0.07 ||  RT AT_USER Nothing less OAKvsDEN WEBLINK\n",
      "0.00 || 0.00 ||  RT AT_USER BeatTheRaiders WEBLINK\n",
      "0.00 || 0.00 ||  RT AT_USER Raiders RB Marshawn Lynch wearing an Everybody vs Trump shirt WEBLINK\n",
      "0.00 || 0.00 ||  Vamos ya con el Broncos Raiders NFL\n",
      "0.16 || 0.54 ||  Let's GO BRONCOS giddy Up Sports Authority Field at Mile High WEBLINK\n",
      "0.00 || 0.00 ||  RT AT_USER Raiders RB Marshawn Lynch wearing an Everybody vs Trump shirt WEBLINK\n",
      "0.42 || 0.58 ||  Oomf Trynna Call Marshawn Lynch Gay For Saggin His Pants Imagine Tryna Tell Him Dat To His Face\n",
      "0.00 || 0.00 ||  AT_USER We must protect Marshawn Lynch\n",
      "0.00 || 0.00 ||  AT_USER is Raiders fan\n",
      "-0.12 || 0.25 ||  Ared no more games back to standing my ground and not watching the NFL Raiders Broncos Me WEBLINK\n",
      "0.00 || 0.00 ||  RT AT_USER The shirt Marshawn Lynch wore into the stadium today sells online here for 45 WEBLINK\n",
      "0.00 || 0.00 ||  It's Broncos Sunday and Pumpkin day with my boys GoBroncos GameDay OAKvsDEN MyWorld WEBLINK\n",
      "0.00 || 0.00 ||  RT AT_USER Raiders RB Marshawn Lynch wearing an Everybody vs Trump shirt WEBLINK\n",
      "-0.17 || 0.07 ||  RT AT_USER Nothing less OAKvsDEN WEBLINK\n",
      "-0.40 || 0.40 ||  Get this trash jets jags game off the tv so we can see the Raiders\n",
      "0.70 || 0.60 ||  AT_USER Today was good day AT_USER vs AT_USER get_free_access WEBLINK\n",
      "0.00 || 0.00 ||  AT_USER ouais carrément ça me met hors de moi\n",
      "0.00 || 0.00 ||  RT AT_USER Raiders RB Marshawn Lynch wearing an Everybody vs Trump shirt WEBLINK\n",
      "0.00 || 0.00 ||  RT AT_USER Raiders RB Marshawn Lynch wearing an Everybody vs Trump shirt WEBLINK\n"
     ]
    }
   ],
   "source": [
    "for tweet in c:\n",
    "    analysis = textblob.TextBlob(' '.join(tweet))\n",
    "    print('{:.2f} || {:.2f} ||  '.format(analysis.sentiment.polarity,analysis.sentiment.subjectivity)+' '.join(tweet))\n",
    "\n",
    "    "
   ]
  },
  {
   "cell_type": "code",
   "execution_count": 23,
   "metadata": {},
   "outputs": [
    {
     "name": "stdout",
     "output_type": "stream",
     "text": [
      "0.1  ||  \n"
     ]
    }
   ],
   "source": [
    "tweet = 'What a garbage offensive PI call on Gronk. These refs are missing a great game'\n",
    "analysis = textblob.TextBlob(tweet)\n",
    "print('{:.1f}  ||  '.format(analysis.sentiment.polarity))"
   ]
  },
  {
   "cell_type": "code",
   "execution_count": 15,
   "metadata": {},
   "outputs": [
    {
     "data": {
      "text/plain": [
       "<function Sentiment.count>"
      ]
     },
     "execution_count": 15,
     "metadata": {},
     "output_type": "execute_result"
    }
   ],
   "source": [
    "analysis.sentiment.count"
   ]
  },
  {
   "cell_type": "code",
   "execution_count": null,
   "metadata": {
    "collapsed": true
   },
   "outputs": [],
   "source": []
  }
 ],
 "metadata": {
  "kernelspec": {
   "display_name": "Python 3",
   "language": "python",
   "name": "python3"
  },
  "language_info": {
   "codemirror_mode": {
    "name": "ipython",
    "version": 3
   },
   "file_extension": ".py",
   "mimetype": "text/x-python",
   "name": "python",
   "nbconvert_exporter": "python",
   "pygments_lexer": "ipython3",
   "version": "3.6.2"
  }
 },
 "nbformat": 4,
 "nbformat_minor": 2
}
